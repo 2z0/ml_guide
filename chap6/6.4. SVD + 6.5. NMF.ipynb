{
 "cells": [
  {
   "cell_type": "markdown",
   "metadata": {},
   "source": [
    "## SVD(singular value decomposition)\n",
    "\n",
    "- 행렬 분해 기법( 정방 행렬, 행과 열의 크기가 다른 행렬) , 특이값 분해로 불림"
   ]
  },
  {
   "cell_type": "code",
   "execution_count": 1,
   "metadata": {},
   "outputs": [
    {
     "name": "stdout",
     "output_type": "stream",
     "text": [
      "[[-0.212 -0.285 -0.574 -0.44 ]\n",
      " [-0.33   1.184  1.615  0.367]\n",
      " [-0.014  0.63   1.71  -1.327]\n",
      " [ 0.402 -0.191  1.404 -1.969]]\n"
     ]
    }
   ],
   "source": [
    "# numpy의 svd 모듈 import\n",
    "import numpy as np\n",
    "from numpy.linalg import svd\n",
    "\n",
    "# 4X4 Random 행렬 a 생성 \n",
    "np.random.seed(121)\n",
    "a = np.random.randn(4,4)\n",
    "print(np.round(a, 3))"
   ]
  },
  {
   "cell_type": "markdown",
   "metadata": {},
   "source": [
    "-> 행렬의 개별 로우끼리의 의존성이 없어짐 랜덤 행렬 a"
   ]
  },
  {
   "cell_type": "code",
   "execution_count": 2,
   "metadata": {},
   "outputs": [
    {
     "name": "stdout",
     "output_type": "stream",
     "text": [
      "(4, 4) (4,) (4, 4)\n",
      "U matrix:\n",
      " [[-0.079 -0.318  0.867  0.376]\n",
      " [ 0.383  0.787  0.12   0.469]\n",
      " [ 0.656  0.022  0.357 -0.664]\n",
      " [ 0.645 -0.529 -0.328  0.444]]\n",
      "Sigma Value:\n",
      " [3.423 2.023 0.463 0.079]\n",
      "V transpose matrix:\n",
      " [[ 0.041  0.224  0.786 -0.574]\n",
      " [-0.2    0.562  0.37   0.712]\n",
      " [-0.778  0.395 -0.333 -0.357]\n",
      " [-0.593 -0.692  0.366  0.189]]\n"
     ]
    }
   ],
   "source": [
    "U, Sigma, Vt = svd(a)\n",
    "print(U.shape, Sigma.shape, Vt.shape)\n",
    "print('U matrix:\\n',np.round(U, 3))\n",
    "print('Sigma Value:\\n',np.round(Sigma, 3))\n",
    "print('V transpose matrix:\\n',np.round(Vt, 3))"
   ]
  },
  {
   "cell_type": "markdown",
   "metadata": {},
   "source": [
    "## NMF( Non-Negative Matrix Factorization)\n",
    "\n",
    "원본 행렬 내의 모든 원소 값이 모두 양수라는게 보장 된다면, 두개의 기반 양수 행렬로 분해될 수 있는 기법\n",
    "\n",
    "SVD와 유사하게 차원 축소를 통한 잠재 요소 도출"
   ]
  },
  {
   "cell_type": "markdown",
   "metadata": {},
   "source": [
    "![nmf](./nmf.png)"
   ]
  },
  {
   "cell_type": "markdown",
   "metadata": {},
   "source": [
    "4 * 6 원본 행렬 V ~  (4 * 2 행렬 W) 와 (2*6 행렬 H)로 근사해 분해\n",
    "\n",
    "W(4 * 2 행렬) : 길고 가는 행렬, 원본 행에 대해서 잠재 요소의 값이 얼마나 되는지에 대응\n",
    "\n",
    "\n",
    "H(2*6 행렬) : 작고 넓은 행렬, 이 잠재 요소가 원본열로 어떻게 구성됐는지 나타내는 행렬"
   ]
  },
  {
   "cell_type": "code",
   "execution_count": 3,
   "metadata": {
    "scrolled": true
   },
   "outputs": [
    {
     "data": {
      "text/plain": [
       "Text(0, 0.5, 'NMF Component 2')"
      ]
     },
     "execution_count": 3,
     "metadata": {},
     "output_type": "execute_result"
    },
    {
     "data": {
      "image/png": "[encoded data removed]",
      "text/plain": [
       "<Figure size 432x288 with 1 Axes>"
      ]
     },
     "metadata": {
      "needs_background": "light"
     },
     "output_type": "display_data"
    }
   ],
   "source": [
    "from sklearn.decomposition import NMF\n",
    "from sklearn.datasets import load_iris\n",
    "import matplotlib.pyplot as plt\n",
    "%matplotlib inline\n",
    "\n",
    "iris = load_iris()\n",
    "iris_ftrs = iris.data\n",
    "nmf = NMF(n_components=2)\n",
    "nmf.fit(iris_ftrs)\n",
    "iris_nmf = nmf.transform(iris_ftrs)\n",
    "plt.scatter(x=iris_nmf[:,0], y= iris_nmf[:,1], c= iris.target)\n",
    "plt.xlabel('NMF Component 1')\n",
    "plt.ylabel('NMF Component 2')"
   ]
  },
  {
   "cell_type": "markdown",
   "metadata": {},
   "source": [
    "2개의 컴포넌트로 변환하고 시각화한 결과"
   ]
  }
 ],
 "metadata": {
  "kernelspec": {
   "display_name": "Python 3",
   "language": "python",
   "name": "python3"
  },
  "language_info": {
   "codemirror_mode": {
    "name": "ipython",
    "version": 3
   },
   "file_extension": ".py",
   "mimetype": "text/x-python",
   "name": "python",
   "nbconvert_exporter": "python",
   "pygments_lexer": "ipython3",
   "version": "3.7.4"
  }
 },
 "nbformat": 4,
 "nbformat_minor": 2
}
