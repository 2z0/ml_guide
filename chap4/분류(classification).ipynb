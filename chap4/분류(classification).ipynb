{
 "cells": [
  {
   "cell_type": "markdown",
   "id": "classical-pasta",
   "metadata": {},
   "source": [
    "## 분류\n",
    "기존 데이터가 어떤 레이블에 속하는지 패턴을 알고리즘으로 인지한 뒤에 새롭게 관측된 데이터에 대한 레이블을 판별"
   ]
  },
  {
   "cell_type": "markdown",
   "id": "characteristic-wholesale",
   "metadata": {},
   "source": [
    "### 앙상블 \n",
    "    분류의 다양한 알고리즘 중 하나\n",
    "    서로 다르거나 같은 알고리즘을 단순히 결합한 형태(대부분 동일한 알고리즘을 결합함) 도 있으나\n",
    "    일반적으로 배깅 | 부스팅 방식으로 나뉨\n",
    " \n",
    " 배깅 방식의 대표 ) 랜덤포레스트\n",
    " \n",
    " 부스팅 방식의 효시 ) 그래디언트 부스팅, XgBoost, LightGBM\n",
    "    \n",
    " 결정 트리 - 앙상블의 기본 알고리즘"
   ]
  }
 ],
 "metadata": {
  "kernelspec": {
   "display_name": "Python 3",
   "language": "python",
   "name": "python3"
  },
  "language_info": {
   "codemirror_mode": {
    "name": "ipython",
    "version": 3
   },
   "file_extension": ".py",
   "mimetype": "text/x-python",
   "name": "python",
   "nbconvert_exporter": "python",
   "pygments_lexer": "ipython3",
   "version": "3.7.6"
  }
 },
 "nbformat": 4,
 "nbformat_minor": 5
}
